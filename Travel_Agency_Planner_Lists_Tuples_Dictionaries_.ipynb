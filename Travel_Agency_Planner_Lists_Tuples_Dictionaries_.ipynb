{
  "nbformat": 4,
  "nbformat_minor": 0,
  "metadata": {
    "colab": {
      "provenance": [],
      "authorship_tag": "ABX9TyNjpxuWB2qIevUndPO9GWZZ",
      "include_colab_link": true
    },
    "kernelspec": {
      "name": "python3",
      "display_name": "Python 3"
    },
    "language_info": {
      "name": "python"
    }
  },
  "cells": [
    {
      "cell_type": "markdown",
      "metadata": {
        "id": "view-in-github",
        "colab_type": "text"
      },
      "source": [
        "<a href=\"https://colab.research.google.com/github/sabiha-shehzadi/Travel-Agency-Planner-Lists-Tuples-Dictionaries-/blob/main/Travel_Agency_Planner_Lists_Tuples_Dictionaries_.ipynb\" target=\"_parent\"><img src=\"https://colab.research.google.com/assets/colab-badge.svg\" alt=\"Open In Colab\"/></a>"
      ]
    },
    {
      "cell_type": "code",
      "execution_count": 2,
      "metadata": {
        "colab": {
          "base_uri": "https://localhost:8080/"
        },
        "id": "wxwab6ri7uwl",
        "outputId": "72c7ca8a-7c42-4d37-e314-71f43ba8a580"
      },
      "outputs": [
        {
          "output_type": "stream",
          "name": "stdout",
          "text": [
            "Rameel's Total Cost: 1250\n",
            "Sabiha's Total Cost: 1750\n",
            "Ayesha's Total Cost: 1050\n",
            "Mariyam's Total Cost: 1200\n",
            "Swera's Total Cost: 970\n",
            "Rameel updated cities: ('Paris', 'London')\n",
            "Sabiha updated cities: ('New York', 'Tokyo')\n",
            "Ayesha updated cities: ('Dubai', 'Istanbul')\n",
            "Mariyam updated cities: ('Toronto', 'Paris')\n",
            "Swera updated cities: ('Berlin', 'Madrid')\n"
          ]
        }
      ],
      "source": [
        "# Step 1: Create data for 5 customers\n",
        "# Each customer: Name (string), Destinations (tuple), Dates (list), City Prices (dict)\n",
        "# Step 1: Create data for 5 customers\n",
        "customers = [\n",
        "    {\n",
        "        \"name\": \"Rameel\",\n",
        "        \"cities\": (\"Paris\", \"London\", \"Rome\"),\n",
        "        \"dates\": [\"2025-09-15\", \"2025-09-20\"],\n",
        "        \"prices\": {\"Paris\": 500, \"London\": 400, \"Rome\": 350}\n",
        "    },\n",
        "    {\n",
        "        \"name\": \"Sabiha\",\n",
        "        \"cities\": (\"New York\", \"Tokyo\"),\n",
        "        \"dates\": [\"2025-10-05\", \"2025-10-10\"],\n",
        "        \"prices\": {\"New York\": 800, \"Tokyo\": 950}\n",
        "    },\n",
        "    {\n",
        "        \"name\": \"Ayesha\",\n",
        "        \"cities\": (\"Dubai\", \"Istanbul\"),\n",
        "        \"dates\": [\"2025-12-20\", \"2025-12-28\"],\n",
        "        \"prices\": {\"Dubai\": 600, \"Istanbul\": 450}\n",
        "    },\n",
        "    {\n",
        "        \"name\": \"Mariyam\",\n",
        "        \"cities\": (\"Toronto\", \"Paris\"),\n",
        "        \"dates\": [\"2026-01-05\", \"2026-01-12\"],\n",
        "        \"prices\": {\"Toronto\": 700, \"Paris\": 500}\n",
        "    },\n",
        "    {\n",
        "        \"name\": \"Swera\",\n",
        "        \"cities\": (\"Berlin\", \"Madrid\", \"Rome\"),\n",
        "        \"dates\": [\"2026-02-01\", \"2026-02-08\"],\n",
        "        \"prices\": {\"Berlin\": 300, \"Madrid\": 320, \"Rome\": 350}\n",
        "    }\n",
        "\n",
        "    # TODO: Add 4 more customers with similar structure\n",
        "]\n",
        "\n",
        "# Step 2: Calculate total cost for each customer\n",
        "for cust in customers:\n",
        "    total_cost = 0\n",
        "    # TODO: Loop through tuple of cities and sum cost using prices dict\n",
        "    for city in cust[\"cities\"]:\n",
        "        total_cost += cust[\"prices\"][city]\n",
        "    print(f\"{cust['name']}'s Total Cost: {total_cost}\")\n",
        "\n",
        "# Step 3: Update a customer's travel dates (append a new date)\n",
        "# TODO: Choose one customer and add a new date\n",
        "for cust in customers:\n",
        "    if cust[\"name\"] == \"Mariyam\":\n",
        "        cust[\"dates\"].append(\"2026-01-19\")\n",
        "        break\n",
        "\n",
        "# Step 4: A city becomes unavailable → remove it from all customers' data\n",
        "# Example: Remove \"Rome\"\n",
        "# TODO: Write logic to remove city from tuples & prices\n",
        "# its the list comprehension\n",
        "for cust in customers:\n",
        "    if \"Rome\" in cust[\"cities\"]:\n",
        "        cust[\"cities\"] = tuple(city for city in cust[\"cities\"] if city != \"Rome\")\n",
        "        cust[\"prices\"].pop(\"Rome\")\n",
        "\n",
        "# ✅ Print updated cities for all customers\n",
        "for cust in customers:\n",
        "    print(f\"{cust['name']} updated cities: {cust['cities']}\")\n"
      ]
    }
  ]
}